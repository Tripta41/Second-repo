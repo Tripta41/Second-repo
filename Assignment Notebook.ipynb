{
    "cells": [
        {
            "cell_type": "markdown",
            "metadata": {
                "collapsed": true
            },
            "source": "#  \"My Jupyter Notebook on IBM Watson Studio\""
        },
        {
            "cell_type": "markdown",
            "metadata": {},
            "source": "# TRIPTA SHARMA\n  HOME MAKER"
        },
        {
            "cell_type": "markdown",
            "metadata": {},
            "source": "<i>I am interested in data science because I like to explore the data and always curious to find the hidden facts out of the data.</i>"
        },
        {
            "cell_type": "markdown",
            "metadata": {},
            "source": "### I am gonna perform multiplication on two numbers."
        },
        {
            "cell_type": "code",
            "execution_count": 5,
            "metadata": {},
            "outputs": [
                {
                    "name": "stdout",
                    "output_type": "stream",
                    "text": "1170000\n"
                }
            ],
            "source": "a= 450 ;\nb= 2600;\nc= a*b;\n\nprint(c);\n"
        },
        {
            "cell_type": "markdown",
            "metadata": {},
            "source": "<html>\n   <body>\n       <a href=\"#\"><h4 align=\"center\">My Table</h4></a>\n         <hr>\n    <table>\n    <tr><th>Education</th>\n        <th>Experience</th></tr>\n        <tr><td> B.TECH </td>\n            <td> Fresher </td>\n        </tr>\n        <tr><td>Phd </td>\n            <td> Experienced </td></tr> </table>\n                \n        \n     \n        \n       \n      \n    \n    \n "
        },
        {
            "cell_type": "code",
            "execution_count": null,
            "metadata": {},
            "outputs": [],
            "source": ""
        }
    ],
    "metadata": {
        "kernelspec": {
            "display_name": "Python 3.9",
            "language": "python",
            "name": "python3"
        },
        "language_info": {
            "codemirror_mode": {
                "name": "ipython",
                "version": 3
            },
            "file_extension": ".py",
            "mimetype": "text/x-python",
            "name": "python",
            "nbconvert_exporter": "python",
            "pygments_lexer": "ipython3",
            "version": "3.9.7"
        }
    },
    "nbformat": 4,
    "nbformat_minor": 1
}